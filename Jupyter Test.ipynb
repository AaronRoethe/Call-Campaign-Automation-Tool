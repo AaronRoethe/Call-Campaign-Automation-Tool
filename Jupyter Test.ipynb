{
 "metadata": {
  "language_info": {
   "codemirror_mode": {
    "name": "ipython",
    "version": 3
   },
   "file_extension": ".py",
   "mimetype": "text/x-python",
   "name": "python",
   "nbconvert_exporter": "python",
   "pygments_lexer": "ipython3",
   "version": "3.8.8"
  },
  "orig_nbformat": 4,
  "kernelspec": {
   "name": "python3",
   "display_name": "Python 3.8.8 64-bit ('CallAutomation': conda)"
  },
  "interpreter": {
   "hash": "5877e55c467286767756ba47265a8c04d996c92a952def979132a4e18ad02ebb"
  }
 },
 "nbformat": 4,
 "nbformat_minor": 2,
 "cells": [
  {
   "cell_type": "code",
   "execution_count": 1,
   "metadata": {},
   "outputs": [],
   "source": [
    "import pandas as pd\n",
    "import numpy as np\n",
    "from timeit import timeit\n",
    "from datetime import date, timedelta, datetime\n",
    "import time\n",
    "\n",
    "from FileLoad import Final_Load\n",
    "from Skills import complex_skills\n",
    "\n",
    "today = date.today()\n",
    "tomorrow = (today + timedelta(days = 1)).strftime(\"%Y-%m-%d\")"
   ]
  },
  {
   "cell_type": "code",
   "execution_count": 2,
   "metadata": {},
   "outputs": [
    {
     "output_type": "stream",
     "name": "stderr",
     "text": [
      "Skipping line 56248: field larger than field limit (1000)\n",
      "Skipping line 95215: field larger than field limit (1000)\n",
      "Skipping line 96095: field larger than field limit (1000)\n",
      "Skipping line 299151: field larger than field limit (1000)\n",
      "Skipping line 300433: field larger than field limit (1000)\n",
      "Skipping line 302367: field larger than field limit (1000)\n"
     ]
    }
   ],
   "source": [
    "### Get data and mutate\n",
    "df0 = Final_Load()\n",
    "\n",
    "name_sort = {'Escalated':0, 'Unscheduled':1,'PNP Released':2,'Past Due':3,'Scheduled':4}\n",
    "rm_sort = {'EMR Remote': 0, 'HIH - Other': 1, 'Onsite':2,'Offsite':3}\n",
    "age_sort = {21: 0, 0: 1, 20:2, 15:3, 10:4, 5:5}\n",
    "\n",
    "df0['name_sort'] = df0['Outreach Status'].map(name_sort)\n",
    "df0['rm_sort'] = df0['Retrieval Group'].map(rm_sort)\n",
    "df0['age_sort'] = df0['Group Number'].map(age_sort)\n",
    "\n",
    "# df0['ORG_list'] = 0\n",
    "df0['ORG Stat'] = 0 \n",
    "\n",
    "df_dummy_status = pd.get_dummies(df0['Outreach Status'])\n",
    "df_dummy_age = pd.get_dummies(df0['Group Number'])\n",
    "df1 = df0.join(df_dummy_status).join(df_dummy_age)\n",
    "\n",
    "### Unique Numbers count and status\n",
    "df2 = df1.groupby(['PhoneNumber']).agg({'PhoneNumber':'count',21:'sum', 0:'sum', 20:'sum', 15:'sum', 10:'sum', 5:'sum','Cluster':'mean','Escalated':'sum','PNP Released':'sum','Past Due':'sum','Scheduled':'sum','Unscheduled':'sum',}).rename(columns={'PhoneNumber':'OutreachID Count','Cluster':'Cluster_Avg'})\n",
    "df2 = df2.reset_index()\n",
    "\n",
    "### Add info to main line and reskill\n",
    "df3 = pd.merge(df0,df2, on='PhoneNumber')\n",
    "df3 = complex_skills(df3)\n",
    "\n",
    "### Sort Order and drop Dups\n",
    "df4 = df3.sort_values(by = ['rm_sort', 'name_sort','age_sort', 'Unscheduled', 'Cluster_Avg'], ascending= [True,True, True, False, True]).reset_index(drop = True)\n",
    "\n",
    "df4 = df4.drop_duplicates(['PhoneNumber']).reset_index(drop = True)\n",
    "df4['ORG Stat'] = 1"
   ]
  },
  {
   "cell_type": "code",
   "execution_count": 4,
   "metadata": {},
   "outputs": [],
   "source": [
    "df0['OutreachID'] = df0['OutreachID'].astype(str)\n"
   ]
  },
  {
   "cell_type": "code",
   "execution_count": 8,
   "metadata": {},
   "outputs": [
    {
     "output_type": "stream",
     "name": "stdout",
     "text": [
      "28.3 s ± 723 ms per loop (mean ± std. dev. of 7 runs, 1 loop each)\n"
     ]
    }
   ],
   "source": [
    "df0['OutreachID'] = df0['OutreachID'].astype(str)\n",
    "\n",
    "df0['ORG list'] = df0.groupby(['PhoneNumber'])['OutreachID'].transform(lambda x : '|'.join(x))\n"
   ]
  },
  {
   "cell_type": "code",
   "execution_count": 9,
   "metadata": {},
   "outputs": [
    {
     "output_type": "execute_result",
     "data": {
      "text/plain": [
       "0                                         19863200|25618810\n",
       "1                                19876666|24062010|25843036\n",
       "2                       19881386|24023218|25828666|26248628\n",
       "3                                         19881768|24028460\n",
       "4         19882776|20461047|21605771|23233945|23770270|2...\n",
       "                                ...                        \n",
       "305370                                    25691517|27022307\n",
       "305371                                             27022312\n",
       "305372                                    26409642|27022319\n",
       "305373                                             27022328\n",
       "305374                                             27022329\n",
       "Name: ORG list, Length: 294283, dtype: object"
      ]
     },
     "metadata": {},
     "execution_count": 9
    }
   ],
   "source": [
    "df0['ORG list']"
   ]
  },
  {
   "cell_type": "code",
   "execution_count": 94,
   "metadata": {},
   "outputs": [],
   "source": [
    "### Concat Column for ORGs to Unique Numbers\n",
    "Phone_List = df4[df4['OutreachID Count'] > 1]['PhoneNumber']\n",
    "df_clean = df0[['OutreachID', 'PhoneNumber']]\n",
    "df_phone = pd.DataFrame()\n",
    "new_row = pd.DataFrame()\n"
   ]
  },
  {
   "cell_type": "code",
   "execution_count": null,
   "metadata": {},
   "outputs": [],
   "source": []
  },
  {
   "cell_type": "code",
   "execution_count": null,
   "metadata": {},
   "outputs": [],
   "source": []
  },
  {
   "cell_type": "code",
   "execution_count": 95,
   "metadata": {},
   "outputs": [],
   "source": [
    "def phone(number):\n",
    "    df1 = df_clean[df_clean['PhoneNumber'] == number]['OutreachID'].tolist()\n",
    "    string_ORG = \"\"\n",
    "    for i in df1:\n",
    "        string_ORG = string_ORG +str(i) +'|'\n",
    "    new_row = [[number, string_ORG]]\n",
    "    return new_row"
   ]
  },
  {
   "cell_type": "code",
   "execution_count": 97,
   "metadata": {},
   "outputs": [],
   "source": [
    "# phone(8008604230)"
   ]
  },
  {
   "cell_type": "code",
   "execution_count": 89,
   "metadata": {},
   "outputs": [
    {
     "output_type": "stream",
     "name": "stdout",
     "text": [
      "-----------------------------------------------\nTime: 355.47213912010193\n-----------------------------------------------\n"
     ]
    }
   ],
   "source": [
    "startTime_1 = time.time()\n",
    "\n",
    "for i in Phone_List:\n",
    "    df_phone = df_phone.append(phone(i), ignore_index=True)\n",
    "\n",
    "executionTime_1 = (time.time() - startTime_1)\n",
    "print(\"-----------------------------------------------\")\n",
    "print('Time: ' + str(executionTime_1))\n",
    "print(\"-----------------------------------------------\")"
   ]
  },
  {
   "cell_type": "code",
   "execution_count": 93,
   "metadata": {},
   "outputs": [
    {
     "output_type": "execute_result",
     "data": {
      "text/plain": [
       "Empty DataFrame\n",
       "Columns: []\n",
       "Index: []"
      ],
      "text/html": "<div>\n<style scoped>\n    .dataframe tbody tr th:only-of-type {\n        vertical-align: middle;\n    }\n\n    .dataframe tbody tr th {\n        vertical-align: top;\n    }\n\n    .dataframe thead th {\n        text-align: right;\n    }\n</style>\n<table border=\"1\" class=\"dataframe\">\n  <thead>\n    <tr style=\"text-align: right;\">\n      <th></th>\n    </tr>\n  </thead>\n  <tbody>\n  </tbody>\n</table>\n</div>"
     },
     "metadata": {},
     "execution_count": 93
    }
   ],
   "source": [
    "df_phone"
   ]
  },
  {
   "cell_type": "code",
   "execution_count": 44,
   "metadata": {},
   "outputs": [
    {
     "output_type": "execute_result",
     "data": {
      "text/plain": [
       "        PhoneNumber                                           Cat ORGs\n",
       "0      9.375231e+09  0    22093445|23241175|23241895|23242715|23812...\n",
       "1      4.192273e+09  0    23836901|24321202|24985548|25354434|25555...\n",
       "2      2.709655e+09  0    24313824|25318568|25406491|25600728|26035...\n",
       "3      4.195178e+09              0    22299060|25263160|\n",
       "dtype: object\n",
       "4      8.647203e+09  0    24763773|25396363|25979483|25979836|25979...\n",
       "...             ...                                                ...\n",
       "59348  4.053309e+09              0    26470629|26473861|\n",
       "dtype: object\n",
       "59349  4.056924e+09              0    26471092|26471887|\n",
       "dtype: object\n",
       "59350  6.418121e+09              0    26472470|26472550|\n",
       "dtype: object\n",
       "59351  9.128197e+09     0    26474226|26475347|26475351|\n",
       "dtype: object\n",
       "59352  2.013456e+09     0    26478058|26478082|26478092|\n",
       "dtype: object\n",
       "\n",
       "[59353 rows x 2 columns]"
      ],
      "text/html": "<div>\n<style scoped>\n    .dataframe tbody tr th:only-of-type {\n        vertical-align: middle;\n    }\n\n    .dataframe tbody tr th {\n        vertical-align: top;\n    }\n\n    .dataframe thead th {\n        text-align: right;\n    }\n</style>\n<table border=\"1\" class=\"dataframe\">\n  <thead>\n    <tr style=\"text-align: right;\">\n      <th></th>\n      <th>PhoneNumber</th>\n      <th>Cat ORGs</th>\n    </tr>\n  </thead>\n  <tbody>\n    <tr>\n      <th>0</th>\n      <td>9.375231e+09</td>\n      <td>0    22093445|23241175|23241895|23242715|23812...</td>\n    </tr>\n    <tr>\n      <th>1</th>\n      <td>4.192273e+09</td>\n      <td>0    23836901|24321202|24985548|25354434|25555...</td>\n    </tr>\n    <tr>\n      <th>2</th>\n      <td>2.709655e+09</td>\n      <td>0    24313824|25318568|25406491|25600728|26035...</td>\n    </tr>\n    <tr>\n      <th>3</th>\n      <td>4.195178e+09</td>\n      <td>0    22299060|25263160|\ndtype: object</td>\n    </tr>\n    <tr>\n      <th>4</th>\n      <td>8.647203e+09</td>\n      <td>0    24763773|25396363|25979483|25979836|25979...</td>\n    </tr>\n    <tr>\n      <th>...</th>\n      <td>...</td>\n      <td>...</td>\n    </tr>\n    <tr>\n      <th>59348</th>\n      <td>4.053309e+09</td>\n      <td>0    26470629|26473861|\ndtype: object</td>\n    </tr>\n    <tr>\n      <th>59349</th>\n      <td>4.056924e+09</td>\n      <td>0    26471092|26471887|\ndtype: object</td>\n    </tr>\n    <tr>\n      <th>59350</th>\n      <td>6.418121e+09</td>\n      <td>0    26472470|26472550|\ndtype: object</td>\n    </tr>\n    <tr>\n      <th>59351</th>\n      <td>9.128197e+09</td>\n      <td>0    26474226|26475347|26475351|\ndtype: object</td>\n    </tr>\n    <tr>\n      <th>59352</th>\n      <td>2.013456e+09</td>\n      <td>0    26478058|26478082|26478092|\ndtype: object</td>\n    </tr>\n  </tbody>\n</table>\n<p>59353 rows × 2 columns</p>\n</div>"
     },
     "metadata": {},
     "execution_count": 44
    }
   ],
   "source": [
    "# df_phone['Cat ORGs'] = df_phone['Cat ORGs'].str.rstrip('dtype: object')#.str[3:]\n",
    "%timeit\n",
    "df_phone['Cat ORGs'] = df_phone['Cat ORGs']\n"
   ]
  },
  {
   "cell_type": "code",
   "execution_count": 37,
   "metadata": {},
   "outputs": [],
   "source": [
    "len('| dtype: object')\n",
    "%timeit"
   ]
  },
  {
   "cell_type": "code",
   "execution_count": null,
   "metadata": {},
   "outputs": [],
   "source": [
    "os.getcwd()"
   ]
  },
  {
   "cell_type": "code",
   "execution_count": null,
   "metadata": {},
   "outputs": [],
   "source": [
    "# df_phone.to_csv('df_phone.csv', index=False)\n"
   ]
  }
 ]
}