{
 "metadata": {
  "language_info": {
   "codemirror_mode": {
    "name": "ipython",
    "version": 3
   },
   "file_extension": ".py",
   "mimetype": "text/x-python",
   "name": "python",
   "nbconvert_exporter": "python",
   "pygments_lexer": "ipython3",
   "version": "3.8.8"
  },
  "orig_nbformat": 4,
  "kernelspec": {
   "name": "python3",
   "display_name": "Python 3.8.8 64-bit ('CallAutomation': conda)"
  },
  "interpreter": {
   "hash": "5877e55c467286767756ba47265a8c04d996c92a952def979132a4e18ad02ebb"
  }
 },
 "nbformat": 4,
 "nbformat_minor": 2,
 "cells": [
  {
   "cell_type": "code",
   "execution_count": 61,
   "metadata": {},
   "outputs": [
    {
     "output_type": "execute_result",
     "data": {
      "text/plain": [
       "'2021-07-03'"
      ]
     },
     "metadata": {},
     "execution_count": 61
    }
   ],
   "source": [
    "import pandas as pd\n",
    "import numpy as np\n",
    "from timeit import timeit\n",
    "from datetime import datetime, date, time, timedelta\n",
    "\n",
    "import time\n",
    "\n",
    "from FileLoad import Final_Load\n",
    "from Skills import complex_skills\n",
    "\n",
    "today = date.today()\n",
    "tomorrow = (today + timedelta(days = 1)).strftime(\"%Y-%m-%d\")\n",
    "tomorrow"
   ]
  },
  {
   "cell_type": "code",
   "execution_count": 3,
   "metadata": {},
   "outputs": [
    {
     "output_type": "stream",
     "name": "stderr",
     "text": [
      "Skipping line 87257: field larger than field limit (1000)\n",
      "Skipping line 88035: field larger than field limit (1000)\n",
      "Skipping line 200903: field larger than field limit (1000)\n",
      "Skipping line 279002: field larger than field limit (1000)\n",
      "Skipping line 281492: field larger than field limit (1000)\n",
      "Skipping line 290627: field larger than field limit (1000)\n",
      "Skipping line 290647: field larger than field limit (1000)\n",
      "Skipping line 292711: field larger than field limit (1000)\n"
     ]
    }
   ],
   "source": [
    "### Get data and mutate\n",
    "df0 = Final_Load()\n",
    "\n",
    "# name_sort = {'Escalated':0, 'Unscheduled':1,'PNP Released':2,'Past Due':3,'Scheduled':4}\n",
    "# rm_sort = {'EMR Remote': 0, 'HIH - Other': 1, 'Onsite':2,'Offsite':3}\n",
    "# age_sort = {21: 0, 0: 1, 20:2, 15:3, 10:4, 5:5}\n",
    "\n",
    "# df0['name_sort'] = df0['Outreach Status'].map(name_sort)\n",
    "# df0['rm_sort'] = df0['Retrieval Group'].map(rm_sort)\n",
    "# df0['age_sort'] = df0['Group Number'].map(age_sort)\n",
    "\n",
    "# # df0['ORG_list'] = 0\n",
    "# df0['ORG Stat'] = 0 \n",
    "\n",
    "# df_dummy_status = pd.get_dummies(df0['Outreach Status'])\n",
    "# df_dummy_age = pd.get_dummies(df0['Group Number'])\n",
    "# df1 = df0.join(df_dummy_status).join(df_dummy_age)\n",
    "\n",
    "# ### Unique Numbers count and status\n",
    "# df2 = df1.groupby(['PhoneNumber']).agg({'PhoneNumber':'count',21:'sum', 0:'sum', 20:'sum', 15:'sum', 10:'sum', 5:'sum','Cluster':'mean','Escalated':'sum','PNP Released':'sum','Past Due':'sum','Scheduled':'sum','Unscheduled':'sum',}).rename(columns={'PhoneNumber':'OutreachID Count','Cluster':'Cluster_Avg'})\n",
    "# df2 = df2.reset_index()\n",
    "\n",
    "# ### Add info to main line and reskill\n",
    "# df3 = pd.merge(df0,df2, on='PhoneNumber')\n",
    "# df3 = complex_skills(df3)\n",
    "\n",
    "# ### Sort Order and drop Dups\n",
    "# df4 = df3.sort_values(by = ['rm_sort', 'name_sort','age_sort', 'Unscheduled', 'Cluster_Avg'], ascending= [True,True, True, False, True]).reset_index(drop = True)\n",
    "\n",
    "# df4 = df4.drop_duplicates(['PhoneNumber']).reset_index(drop = True)\n",
    "# df4['ORG Stat'] = 1"
   ]
  },
  {
   "cell_type": "code",
   "execution_count": 52,
   "metadata": {},
   "outputs": [
    {
     "output_type": "execute_result",
     "data": {
      "text/plain": [
       "3    186356\n",
       "1     83865\n",
       "2     15202\n",
       "4      5021\n",
       "Name: Month Bin, dtype: int64"
      ]
     },
     "metadata": {},
     "execution_count": 52
    }
   ],
   "source": [
    "def Date_Bins(df):\n",
    "    df0 = df\n",
    "    q4 = max(df0['Project Due Date'])\n",
    "    q0 = min(df0['Project Due Date'])\n",
    "    q2 = q0 + (q4 - q0)/2\n",
    "    q1 = q0 + (q2 - q0)/2\n",
    "    q3 = q2 + (q4 - q2)/2\n",
    "    bins = [q0,q1,q2,q3,q4]\n",
    "    labels = list('1234')\n",
    "    df0['Month Bin'] = pd.cut(df0['Project Due Date'], bins, labels=labels, include_lowest=True, right = True)\n",
    "    return df0\n",
    "df0['Date Bin'].value_counts()\n",
    "# df0['Project Due Date'].sort_values()"
   ]
  },
  {
   "cell_type": "code",
   "execution_count": 25,
   "metadata": {},
   "outputs": [
    {
     "output_type": "execute_result",
     "data": {
      "text/plain": [
       "0        2021-07-06\n",
       "1        2021-07-09\n",
       "2        2021-07-09\n",
       "3        2021-07-06\n",
       "4        2021-07-06\n",
       "            ...    \n",
       "303425   2021-07-11\n",
       "303426   2021-07-06\n",
       "303427   2021-09-27\n",
       "303428   2022-04-25\n",
       "303429   2021-07-11\n",
       "Name: Project Due Date, Length: 290444, dtype: datetime64[ns]"
      ]
     },
     "metadata": {},
     "execution_count": 25
    }
   ],
   "source": [
    "df0['Project Due Date'] = pd.to_datetime(df0['Project Due Date'])\n",
    "df0['Project Due Date']"
   ]
  },
  {
   "cell_type": "code",
   "execution_count": 62,
   "metadata": {},
   "outputs": [
    {
     "output_type": "error",
     "ename": "AttributeError",
     "evalue": "type object 'datetime.datetime' has no attribute 'timedelta'",
     "traceback": [
      "\u001b[1;31m---------------------------------------------------------------------------\u001b[0m",
      "\u001b[1;31mAttributeError\u001b[0m                            Traceback (most recent call last)",
      "\u001b[1;32m<ipython-input-62-8410cfaadeb0>\u001b[0m in \u001b[0;36m<module>\u001b[1;34m\u001b[0m\n\u001b[0;32m      3\u001b[0m \u001b[1;33m\u001b[0m\u001b[0m\n\u001b[0;32m      4\u001b[0m \u001b[0mSprint\u001b[0m \u001b[1;33m=\u001b[0m \u001b[1;36m10\u001b[0m\u001b[1;33m\u001b[0m\u001b[1;33m\u001b[0m\u001b[0m\n\u001b[1;32m----> 5\u001b[1;33m \u001b[0mletters\u001b[0m \u001b[1;33m=\u001b[0m \u001b[1;33m[\u001b[0m\u001b[0mmy_datetime\u001b[0m \u001b[1;33m+\u001b[0m \u001b[0mdatetime\u001b[0m\u001b[1;33m.\u001b[0m\u001b[0mtimedelta\u001b[0m\u001b[1;33m(\u001b[0m\u001b[0mdays\u001b[0m\u001b[1;33m=\u001b[0m\u001b[0midx\u001b[0m\u001b[1;33m)\u001b[0m \u001b[1;32mfor\u001b[0m \u001b[0midx\u001b[0m \u001b[1;32min\u001b[0m \u001b[0mrange\u001b[0m\u001b[1;33m(\u001b[0m\u001b[0mSprint\u001b[0m\u001b[1;33m)\u001b[0m\u001b[1;33m]\u001b[0m\u001b[1;33m\u001b[0m\u001b[1;33m\u001b[0m\u001b[0m\n\u001b[0m",
      "\u001b[1;32m<ipython-input-62-8410cfaadeb0>\u001b[0m in \u001b[0;36m<listcomp>\u001b[1;34m(.0)\u001b[0m\n\u001b[0;32m      3\u001b[0m \u001b[1;33m\u001b[0m\u001b[0m\n\u001b[0;32m      4\u001b[0m \u001b[0mSprint\u001b[0m \u001b[1;33m=\u001b[0m \u001b[1;36m10\u001b[0m\u001b[1;33m\u001b[0m\u001b[1;33m\u001b[0m\u001b[0m\n\u001b[1;32m----> 5\u001b[1;33m \u001b[0mletters\u001b[0m \u001b[1;33m=\u001b[0m \u001b[1;33m[\u001b[0m\u001b[0mmy_datetime\u001b[0m \u001b[1;33m+\u001b[0m \u001b[0mdatetime\u001b[0m\u001b[1;33m.\u001b[0m\u001b[0mtimedelta\u001b[0m\u001b[1;33m(\u001b[0m\u001b[0mdays\u001b[0m\u001b[1;33m=\u001b[0m\u001b[0midx\u001b[0m\u001b[1;33m)\u001b[0m \u001b[1;32mfor\u001b[0m \u001b[0midx\u001b[0m \u001b[1;32min\u001b[0m \u001b[0mrange\u001b[0m\u001b[1;33m(\u001b[0m\u001b[0mSprint\u001b[0m\u001b[1;33m)\u001b[0m\u001b[1;33m]\u001b[0m\u001b[1;33m\u001b[0m\u001b[1;33m\u001b[0m\u001b[0m\n\u001b[0m",
      "\u001b[1;31mAttributeError\u001b[0m: type object 'datetime.datetime' has no attribute 'timedelta'"
     ]
    }
   ],
   "source": [
    "my_date = today\n",
    "my_datetime = datetime(my_date.year, my_date.month, my_date.day)\n",
    "\n",
    "Sprint = 10\n",
    "letters = [my_datetime + datetime.timedelta(days=idx) for idx in range(Sprint)]\n"
   ]
  },
  {
   "cell_type": "code",
   "execution_count": 71,
   "metadata": {},
   "outputs": [
    {
     "output_type": "execute_result",
     "data": {
      "text/plain": [
       "['07-02',\n",
       " '07-03',\n",
       " '07-04',\n",
       " '07-05',\n",
       " '07-06',\n",
       " '07-07',\n",
       " '07-08',\n",
       " '07-09',\n",
       " '07-10',\n",
       " '07-11',\n",
       " '07-12',\n",
       " '07-13',\n",
       " '07-14',\n",
       " '07-15',\n",
       " '07-02',\n",
       " '07-03',\n",
       " '07-04',\n",
       " '07-05',\n",
       " '07-06',\n",
       " '07-07',\n",
       " '07-08',\n",
       " '07-09',\n",
       " '07-10',\n",
       " '07-11',\n",
       " '07-12',\n",
       " '07-13',\n",
       " '07-14',\n",
       " '07-15',\n",
       " '07-02',\n",
       " '07-03',\n",
       " '07-04',\n",
       " '07-05',\n",
       " '07-06',\n",
       " '07-07',\n",
       " '07-08',\n",
       " '07-09',\n",
       " '07-10',\n",
       " '07-11',\n",
       " '07-12',\n",
       " '07-13',\n",
       " '07-14',\n",
       " '07-15',\n",
       " '07-02',\n",
       " '07-03',\n",
       " '07-04',\n",
       " '07-05',\n",
       " '07-06',\n",
       " '07-07',\n",
       " '07-08',\n",
       " '07-09',\n",
       " '07-10',\n",
       " '07-11',\n",
       " '07-12',\n",
       " '07-13',\n",
       " '07-14',\n",
       " '07-15',\n",
       " '07-02',\n",
       " '07-03',\n",
       " '07-04',\n",
       " '07-05',\n",
       " '07-06',\n",
       " '07-07',\n",
       " '07-08',\n",
       " '07-09',\n",
       " '07-10',\n",
       " '07-11',\n",
       " '07-12',\n",
       " '07-13',\n",
       " '07-14',\n",
       " '07-15',\n",
       " '07-02',\n",
       " '07-03',\n",
       " '07-04',\n",
       " '07-05',\n",
       " '07-06',\n",
       " '07-07',\n",
       " '07-08',\n",
       " '07-09',\n",
       " '07-10',\n",
       " '07-11',\n",
       " '07-12',\n",
       " '07-13',\n",
       " '07-14',\n",
       " '07-15',\n",
       " '07-02',\n",
       " '07-03',\n",
       " '07-04',\n",
       " '07-05',\n",
       " '07-06',\n",
       " '07-07',\n",
       " '07-08',\n",
       " '07-09',\n",
       " '07-10',\n",
       " '07-11',\n",
       " '07-12',\n",
       " '07-13',\n",
       " '07-14',\n",
       " '07-15',\n",
       " '07-02',\n",
       " '07-03',\n",
       " '07-04',\n",
       " '07-05',\n",
       " '07-06',\n",
       " '07-07',\n",
       " '07-08',\n",
       " '07-09',\n",
       " '07-10',\n",
       " '07-11',\n",
       " '07-12',\n",
       " '07-13',\n",
       " '07-14',\n",
       " '07-15',\n",
       " '07-02',\n",
       " '07-03',\n",
       " '07-04',\n",
       " '07-05',\n",
       " '07-06',\n",
       " '07-07',\n",
       " '07-08',\n",
       " '07-09',\n",
       " '07-10',\n",
       " '07-11',\n",
       " '07-12',\n",
       " '07-13',\n",
       " '07-14',\n",
       " '07-15',\n",
       " '07-02',\n",
       " '07-03',\n",
       " '07-04',\n",
       " '07-05',\n",
       " '07-06',\n",
       " '07-07',\n",
       " '07-08',\n",
       " '07-09',\n",
       " '07-10',\n",
       " '07-11',\n",
       " '07-12',\n",
       " '07-13',\n",
       " '07-14',\n",
       " '07-15']"
      ]
     },
     "metadata": {},
     "execution_count": 71
    }
   ],
   "source": [
    "dayDates = []\n",
    "list1 = []\n",
    "today = datetime.now()\n",
    "dayDates.append(today.strftime(\"%m%d%Y\"))\n",
    "for i in range(0,14):\n",
    "    list1.append((today + timedelta(days=i)).strftime(\"%m-%d\"))\n",
    "list1"
   ]
  },
  {
   "cell_type": "code",
   "execution_count": 9,
   "metadata": {},
   "outputs": [
    {
     "output_type": "execute_result",
     "data": {
      "text/plain": [
       "0                                         19863200|25618810\n",
       "1                                19876666|24062010|25843036\n",
       "2                       19881386|24023218|25828666|26248628\n",
       "3                                         19881768|24028460\n",
       "4         19882776|20461047|21605771|23233945|23770270|2...\n",
       "                                ...                        \n",
       "305370                                    25691517|27022307\n",
       "305371                                             27022312\n",
       "305372                                    26409642|27022319\n",
       "305373                                             27022328\n",
       "305374                                             27022329\n",
       "Name: ORG list, Length: 294283, dtype: object"
      ]
     },
     "metadata": {},
     "execution_count": 9
    }
   ],
   "source": [
    "df0['ORG list']"
   ]
  },
  {
   "cell_type": "code",
   "execution_count": 94,
   "metadata": {},
   "outputs": [],
   "source": [
    "### Concat Column for ORGs to Unique Numbers\n",
    "Phone_List = df4[df4['OutreachID Count'] > 1]['PhoneNumber']\n",
    "df_clean = df0[['OutreachID', 'PhoneNumber']]\n",
    "df_phone = pd.DataFrame()\n",
    "new_row = pd.DataFrame()\n"
   ]
  },
  {
   "cell_type": "code",
   "execution_count": null,
   "metadata": {},
   "outputs": [],
   "source": []
  },
  {
   "cell_type": "code",
   "execution_count": null,
   "metadata": {},
   "outputs": [],
   "source": []
  },
  {
   "cell_type": "code",
   "execution_count": 95,
   "metadata": {},
   "outputs": [],
   "source": [
    "def phone(number):\n",
    "    df1 = df_clean[df_clean['PhoneNumber'] == number]['OutreachID'].tolist()\n",
    "    string_ORG = \"\"\n",
    "    for i in df1:\n",
    "        string_ORG = string_ORG +str(i) +'|'\n",
    "    new_row = [[number, string_ORG]]\n",
    "    return new_row"
   ]
  },
  {
   "cell_type": "code",
   "execution_count": 97,
   "metadata": {},
   "outputs": [],
   "source": [
    "# phone(8008604230)"
   ]
  },
  {
   "cell_type": "code",
   "execution_count": 89,
   "metadata": {},
   "outputs": [
    {
     "output_type": "stream",
     "name": "stdout",
     "text": [
      "-----------------------------------------------\nTime: 355.47213912010193\n-----------------------------------------------\n"
     ]
    }
   ],
   "source": [
    "startTime_1 = time.time()\n",
    "\n",
    "for i in Phone_List:\n",
    "    df_phone = df_phone.append(phone(i), ignore_index=True)\n",
    "\n",
    "executionTime_1 = (time.time() - startTime_1)\n",
    "print(\"-----------------------------------------------\")\n",
    "print('Time: ' + str(executionTime_1))\n",
    "print(\"-----------------------------------------------\")"
   ]
  },
  {
   "cell_type": "code",
   "execution_count": 93,
   "metadata": {},
   "outputs": [
    {
     "output_type": "execute_result",
     "data": {
      "text/plain": [
       "Empty DataFrame\n",
       "Columns: []\n",
       "Index: []"
      ],
      "text/html": "<div>\n<style scoped>\n    .dataframe tbody tr th:only-of-type {\n        vertical-align: middle;\n    }\n\n    .dataframe tbody tr th {\n        vertical-align: top;\n    }\n\n    .dataframe thead th {\n        text-align: right;\n    }\n</style>\n<table border=\"1\" class=\"dataframe\">\n  <thead>\n    <tr style=\"text-align: right;\">\n      <th></th>\n    </tr>\n  </thead>\n  <tbody>\n  </tbody>\n</table>\n</div>"
     },
     "metadata": {},
     "execution_count": 93
    }
   ],
   "source": [
    "df_phone"
   ]
  },
  {
   "cell_type": "code",
   "execution_count": 44,
   "metadata": {},
   "outputs": [
    {
     "output_type": "execute_result",
     "data": {
      "text/plain": [
       "        PhoneNumber                                           Cat ORGs\n",
       "0      9.375231e+09  0    22093445|23241175|23241895|23242715|23812...\n",
       "1      4.192273e+09  0    23836901|24321202|24985548|25354434|25555...\n",
       "2      2.709655e+09  0    24313824|25318568|25406491|25600728|26035...\n",
       "3      4.195178e+09              0    22299060|25263160|\n",
       "dtype: object\n",
       "4      8.647203e+09  0    24763773|25396363|25979483|25979836|25979...\n",
       "...             ...                                                ...\n",
       "59348  4.053309e+09              0    26470629|26473861|\n",
       "dtype: object\n",
       "59349  4.056924e+09              0    26471092|26471887|\n",
       "dtype: object\n",
       "59350  6.418121e+09              0    26472470|26472550|\n",
       "dtype: object\n",
       "59351  9.128197e+09     0    26474226|26475347|26475351|\n",
       "dtype: object\n",
       "59352  2.013456e+09     0    26478058|26478082|26478092|\n",
       "dtype: object\n",
       "\n",
       "[59353 rows x 2 columns]"
      ],
      "text/html": "<div>\n<style scoped>\n    .dataframe tbody tr th:only-of-type {\n        vertical-align: middle;\n    }\n\n    .dataframe tbody tr th {\n        vertical-align: top;\n    }\n\n    .dataframe thead th {\n        text-align: right;\n    }\n</style>\n<table border=\"1\" class=\"dataframe\">\n  <thead>\n    <tr style=\"text-align: right;\">\n      <th></th>\n      <th>PhoneNumber</th>\n      <th>Cat ORGs</th>\n    </tr>\n  </thead>\n  <tbody>\n    <tr>\n      <th>0</th>\n      <td>9.375231e+09</td>\n      <td>0    22093445|23241175|23241895|23242715|23812...</td>\n    </tr>\n    <tr>\n      <th>1</th>\n      <td>4.192273e+09</td>\n      <td>0    23836901|24321202|24985548|25354434|25555...</td>\n    </tr>\n    <tr>\n      <th>2</th>\n      <td>2.709655e+09</td>\n      <td>0    24313824|25318568|25406491|25600728|26035...</td>\n    </tr>\n    <tr>\n      <th>3</th>\n      <td>4.195178e+09</td>\n      <td>0    22299060|25263160|\ndtype: object</td>\n    </tr>\n    <tr>\n      <th>4</th>\n      <td>8.647203e+09</td>\n      <td>0    24763773|25396363|25979483|25979836|25979...</td>\n    </tr>\n    <tr>\n      <th>...</th>\n      <td>...</td>\n      <td>...</td>\n    </tr>\n    <tr>\n      <th>59348</th>\n      <td>4.053309e+09</td>\n      <td>0    26470629|26473861|\ndtype: object</td>\n    </tr>\n    <tr>\n      <th>59349</th>\n      <td>4.056924e+09</td>\n      <td>0    26471092|26471887|\ndtype: object</td>\n    </tr>\n    <tr>\n      <th>59350</th>\n      <td>6.418121e+09</td>\n      <td>0    26472470|26472550|\ndtype: object</td>\n    </tr>\n    <tr>\n      <th>59351</th>\n      <td>9.128197e+09</td>\n      <td>0    26474226|26475347|26475351|\ndtype: object</td>\n    </tr>\n    <tr>\n      <th>59352</th>\n      <td>2.013456e+09</td>\n      <td>0    26478058|26478082|26478092|\ndtype: object</td>\n    </tr>\n  </tbody>\n</table>\n<p>59353 rows × 2 columns</p>\n</div>"
     },
     "metadata": {},
     "execution_count": 44
    }
   ],
   "source": [
    "# df_phone['Cat ORGs'] = df_phone['Cat ORGs'].str.rstrip('dtype: object')#.str[3:]\n",
    "%timeit\n",
    "df_phone['Cat ORGs'] = df_phone['Cat ORGs']\n"
   ]
  },
  {
   "cell_type": "code",
   "execution_count": 37,
   "metadata": {},
   "outputs": [],
   "source": [
    "len('| dtype: object')\n",
    "%timeit"
   ]
  },
  {
   "cell_type": "code",
   "execution_count": null,
   "metadata": {},
   "outputs": [],
   "source": [
    "os.getcwd()"
   ]
  },
  {
   "cell_type": "code",
   "execution_count": null,
   "metadata": {},
   "outputs": [],
   "source": [
    "# df_phone.to_csv('df_phone.csv', index=False)\n",
    "def Assign_Map(df):\n",
    "    Sprint = 10\n",
    "\n",
    "    df_len = len(df.index)\n",
    "    group_size = df_len // Sprint \n",
    "    letters = list(string.ascii_uppercase)[:Sprint] * group_size\n",
    "    letters.sort()\n",
    "    Daily_Priority = pd.DataFrame(letters, columns=['Daily_Groups'])\n",
    "    add_back = df_len - len(Daily_Priority)\n",
    "    Daily_Priority = Daily_Priority.append(Daily_Priority.iloc[[-1]*add_back]).reset_index(drop=True)\n",
    "    df = df.join(Daily_Priority)\n",
    "    df = [['OutreachID', 'Daily_Groups']]\n",
    "\n",
    "    path2 = 'C:\\\\Users\\\\ARoethe\\\\OneDrive - CIOX Health\\\\Aaron\\\\Projects\\\\Call Campaign Automation\\\\Table_Drops\\\\'\n",
    "    df.to_csv(path2 + 'Assign_Map.csv', index=False)"
   ]
  }
 ]
}