{
 "metadata": {
  "language_info": {
   "codemirror_mode": {
    "name": "ipython",
    "version": 3
   },
   "file_extension": ".py",
   "mimetype": "text/x-python",
   "name": "python",
   "nbconvert_exporter": "python",
   "pygments_lexer": "ipython3",
   "version": "3.8.10"
  },
  "orig_nbformat": 4,
  "kernelspec": {
   "name": "python3",
   "display_name": "Python 3.8.10 64-bit ('CallAutomation': conda)"
  },
  "interpreter": {
   "hash": "9c3e208916f665a70caf4b615527503469a2f7f26d4bd8be3a4693e6ca467887"
  }
 },
 "nbformat": 4,
 "nbformat_minor": 2,
 "cells": [
  {
   "cell_type": "code",
   "execution_count": 88,
   "metadata": {},
   "outputs": [],
   "source": [
    "import pandas as pd\n",
    "import numpy as np\n",
    "from timeit import timeit\n",
    "from datetime import date, timedelta, datetime\n",
    "import time\n",
    "\n",
    "from FileLoad import Final_Load\n",
    "from Skills import complex_skills\n",
    "\n",
    "today = date.today()\n",
    "tomorrow = (today + timedelta(days = 1)).strftime(\"%Y-%m-%d\")"
   ]
  },
  {
   "cell_type": "code",
   "execution_count": 106,
   "metadata": {},
   "outputs": [
    {
     "output_type": "stream",
     "name": "stderr",
     "text": [
      "Skipping line 57213: field larger than field limit (1000)\n",
      "Skipping line 96725: field larger than field limit (1000)\n",
      "Skipping line 97632: field larger than field limit (1000)\n",
      "Skipping line 302863: field larger than field limit (1000)\n",
      "Skipping line 303803: field larger than field limit (1000)\n",
      "Skipping line 305333: field larger than field limit (1000)\n"
     ]
    }
   ],
   "source": [
    "### Get data and mutate\n",
    "df0 = Final_Load()\n",
    "\n",
    "name_sort = {'Escalated':0, 'Unscheduled':1,'PNP Released':2,'Past Due':3,'Scheduled':4}\n",
    "rm_sort = {'EMR Remote': 0, 'HIH - Other': 1, 'Onsite':2,'Offsite':3}\n",
    "# age_sort = {21: 0, 0: 1, 20:2, 15:3, 10:4, 5:5}\n",
    "\n",
    "df0['name_sort'] = df0['Outreach Status'].map(name_sort)\n",
    "df0['rm_sort'] = df0['Retrieval Group'].map(rm_sort)\n",
    "# df0['age_sort'] = df0['Group Number'].map(age_sort)\n",
    "\n",
    "# df0['ORG_list'] = 0\n",
    "df0['ORG Stat'] = 0 \n",
    "\n",
    "df_dummy_status = pd.get_dummies(df0['Outreach Status'])\n",
    "df_dummy_age = pd.get_dummies(df0['Group Number'])\n",
    "df1 = df0.join(df_dummy_status).join(df_dummy_age)\n",
    "\n",
    "### Unique Numbers count and status\n",
    "df2 = df1.groupby(['PhoneNumber']).agg({'PhoneNumber':'count','Cluster':'mean','Escalated':'sum','PNP Released':'sum','Past Due':'sum','Scheduled':'sum','Unscheduled':'sum',}).rename(columns={'PhoneNumber':'OutreachID Count','Cluster':'Cluster_Avg'})\n",
    "df2 = df2.reset_index()\n",
    "\n",
    "### Add info to main line and reskill\n",
    "df3 = pd.merge(df0,df2, on='PhoneNumber')\n",
    "df3 = complex_skills(df3)\n",
    "\n",
    "### Sort Order and drop Dups\n",
    "df4 = df3.sort_values(by = ['rm_sort', 'name_sort', 'Unscheduled', 'Cluster_Avg'], ascending= [True, True, False, True]).reset_index(drop = True)\n",
    "\n",
    "df4 = df4.drop_duplicates(['PhoneNumber']).reset_index(drop = True)\n",
    "df4['ORG Stat'] = 1"
   ]
  },
  {
   "cell_type": "code",
   "execution_count": 94,
   "metadata": {},
   "outputs": [],
   "source": [
    "### Concat Column for ORGs to Unique Numbers\n",
    "Phone_List = df4[df4['OutreachID Count'] > 1]['PhoneNumber']\n",
    "df_clean = df0[['OutreachID', 'PhoneNumber']]\n",
    "df_phone = pd.DataFrame()\n",
    "new_row = pd.DataFrame()\n",
    "\n",
    "def phone(number):\n",
    "    df1 = df_clean[df_clean['PhoneNumber'] == number]['OutreachID'].tolist()\n",
    "    string_ORG = \"\"\n",
    "    for i in df1:\n",
    "        string_ORG = string_ORG +str(i) +'|'\n",
    "    new_row = [[number, string_ORG]]\n",
    "    return new_row\n",
    "\n",
    "for i in Phone_List:\n",
    "    df_phone = df_phone.append(phone(i), ignore_index=True)"
   ]
  },
  {
   "cell_type": "code",
   "execution_count": 95,
   "metadata": {},
   "outputs": [],
   "source": []
  },
  {
   "cell_type": "code",
   "execution_count": 97,
   "metadata": {},
   "outputs": [],
   "source": [
    "# phone(8008604230)"
   ]
  },
  {
   "cell_type": "code",
   "execution_count": 98,
   "metadata": {},
   "outputs": [
    {
     "output_type": "stream",
     "name": "stdout",
     "text": [
      "-----------------------------------------------\nTime: 86.22116684913635\n-----------------------------------------------\n"
     ]
    }
   ],
   "source": [
    "startTime_1 = time.time()\n",
    "\n",
    "\n",
    "executionTime_1 = (time.time() - startTime_1)\n",
    "print(\"-----------------------------------------------\")\n",
    "print('Time: ' + str(executionTime_1))\n",
    "print(\"-----------------------------------------------\")"
   ]
  },
  {
   "cell_type": "code",
   "execution_count": 107,
   "metadata": {},
   "outputs": [],
   "source": [
    "# df_phone"
   ]
  },
  {
   "cell_type": "code",
   "execution_count": 108,
   "metadata": {},
   "outputs": [
    {
     "output_type": "execute_result",
     "data": {
      "text/plain": [
       "        PhoneNumber                                           ORG List\n",
       "0      9.375231e+09  22093445|23241175|23241895|23242715|23812387|2...\n",
       "1      4.192273e+09  23836901|24321202|24985548|25354434|25555084|2...\n",
       "2      2.709655e+09  24313824|25318568|25406491|25600728|26035571|2...\n",
       "3      4.195178e+09                                 22299060|25263160|\n",
       "4      8.647203e+09  24763773|25396363|25979483|25979836|25979849|2...\n",
       "...             ...                                                ...\n",
       "59348  4.053309e+09                                 26470629|26473861|\n",
       "59349  4.056924e+09                                 26471092|26471887|\n",
       "59350  6.418121e+09                                 26472470|26472550|\n",
       "59351  9.128197e+09                        26474226|26475347|26475351|\n",
       "59352  2.013456e+09                        26478058|26478082|26478092|\n",
       "\n",
       "[59353 rows x 2 columns]"
      ],
      "text/html": "<div>\n<style scoped>\n    .dataframe tbody tr th:only-of-type {\n        vertical-align: middle;\n    }\n\n    .dataframe tbody tr th {\n        vertical-align: top;\n    }\n\n    .dataframe thead th {\n        text-align: right;\n    }\n</style>\n<table border=\"1\" class=\"dataframe\">\n  <thead>\n    <tr style=\"text-align: right;\">\n      <th></th>\n      <th>PhoneNumber</th>\n      <th>ORG List</th>\n    </tr>\n  </thead>\n  <tbody>\n    <tr>\n      <th>0</th>\n      <td>9.375231e+09</td>\n      <td>22093445|23241175|23241895|23242715|23812387|2...</td>\n    </tr>\n    <tr>\n      <th>1</th>\n      <td>4.192273e+09</td>\n      <td>23836901|24321202|24985548|25354434|25555084|2...</td>\n    </tr>\n    <tr>\n      <th>2</th>\n      <td>2.709655e+09</td>\n      <td>24313824|25318568|25406491|25600728|26035571|2...</td>\n    </tr>\n    <tr>\n      <th>3</th>\n      <td>4.195178e+09</td>\n      <td>22299060|25263160|</td>\n    </tr>\n    <tr>\n      <th>4</th>\n      <td>8.647203e+09</td>\n      <td>24763773|25396363|25979483|25979836|25979849|2...</td>\n    </tr>\n    <tr>\n      <th>...</th>\n      <td>...</td>\n      <td>...</td>\n    </tr>\n    <tr>\n      <th>59348</th>\n      <td>4.053309e+09</td>\n      <td>26470629|26473861|</td>\n    </tr>\n    <tr>\n      <th>59349</th>\n      <td>4.056924e+09</td>\n      <td>26471092|26471887|</td>\n    </tr>\n    <tr>\n      <th>59350</th>\n      <td>6.418121e+09</td>\n      <td>26472470|26472550|</td>\n    </tr>\n    <tr>\n      <th>59351</th>\n      <td>9.128197e+09</td>\n      <td>26474226|26475347|26475351|</td>\n    </tr>\n    <tr>\n      <th>59352</th>\n      <td>2.013456e+09</td>\n      <td>26478058|26478082|26478092|</td>\n    </tr>\n  </tbody>\n</table>\n<p>59353 rows × 2 columns</p>\n</div>"
     },
     "metadata": {},
     "execution_count": 108
    }
   ],
   "source": [
    "# df_phone['Cat ORGs'] = df_phone['Cat ORGs'].str.rstrip('dtype: object')#.str[3:]\n",
    "# df_phone.columns = ['PhoneNumber', 'ORG List']\n",
    "df_phone"
   ]
  },
  {
   "cell_type": "code",
   "execution_count": 109,
   "metadata": {},
   "outputs": [
    {
     "output_type": "execute_result",
     "data": {
      "text/plain": [
       "        OutreachID Outreach Team Client / Optum Category  \\\n",
       "0         25979849        Sub 15                Highmark   \n",
       "1         26404002        Sub 15                WellCare   \n",
       "2         25124843        Sub 15                  Anthem   \n",
       "3         25723033      15 to 59                     UHC   \n",
       "4         25626648        Sub 15                     UHC   \n",
       "...            ...           ...                     ...   \n",
       "164434    26478819      15 to 59                     NaN   \n",
       "164435    26479104        Sub 15                     NaN   \n",
       "164436    26479241        Sub 15                     NaN   \n",
       "164437    26479335      15 to 59                     NaN   \n",
       "164438    26479785        Sub 15                     NaN   \n",
       "\n",
       "       Recommended Schedule Date   PhoneNumber  \\\n",
       "0                     2021-07-02  8.647203e+09   \n",
       "1                     2021-07-02  2.065205e+09   \n",
       "2                     2021-07-02  4.196965e+09   \n",
       "3                     2021-07-02  8.889527e+09   \n",
       "4                     2021-07-02  8.005278e+09   \n",
       "...                          ...           ...   \n",
       "164434                2021-07-02  8.509266e+09   \n",
       "164435                2021-07-02  6.103611e+09   \n",
       "164436                2021-07-02  9.287744e+09   \n",
       "164437                2021-07-02  8.594986e+09   \n",
       "164438                2021-07-02  5.103475e+09   \n",
       "\n",
       "                                   Address            City State      Zip  \\\n",
       "0                        60 MAPLE RD STE 1         BUFFALO    NY  14221.0   \n",
       "1                 13231 SE 36TH ST STE 110        BELLEVUE    WA  98006.0   \n",
       "2                   8423 MARKET ST STE 101      YOUNGSTOWN    OH  44512.0   \n",
       "3               3003 N CENTRAL AVE STE 800         PHOENIX    AZ  85012.0   \n",
       "4                        3000 HOSPITAL DR          BATAVIA    OH  45103.0   \n",
       "...                                    ...             ...   ...      ...   \n",
       "164434             2382 CRAWFORDVILLE HWY    CRAWFORDVILLE    FL  32327.0   \n",
       "164435      161 WILMINGTON W CHESTER PIKE      CHADDS FORD    PA  19317.0   \n",
       "164436  1750 S RAILROAD SPRINGS BLVD STE 3       FLAGSTAFF    AZ  86001.0   \n",
       "164437               101 BRANDON WAY STE B  MOUNT STERLING    KY  40353.0   \n",
       "164438             13851 E 14TH ST STE 202     SAN LEANDRO    CA  94578.0   \n",
       "\n",
       "       Agent  ... rm_sort ORG Stat OutreachID Count Cluster_Avg  Escalated  \\\n",
       "0             ...       0        1              198           0          0   \n",
       "1             ...       0        1               60           0          0   \n",
       "2             ...       0        1               24           0          0   \n",
       "3             ...       0        1               32           0          2   \n",
       "4             ...       0        1               21           0          1   \n",
       "...      ...  ...     ...      ...              ...         ...        ...   \n",
       "164434        ...       3        1                1           0          0   \n",
       "164435        ...       3        1                1           0          0   \n",
       "164436        ...       3        1                1           0          0   \n",
       "164437        ...       3        1                1           0          0   \n",
       "164438        ...       3        1                1           0          0   \n",
       "\n",
       "       PNP Released Past Due Scheduled  Unscheduled  \\\n",
       "0                 0        1         7        190.0   \n",
       "1                 0        9         2         49.0   \n",
       "2                 0        0         0         24.0   \n",
       "3                 0        5         1         24.0   \n",
       "4                 0        1         1         18.0   \n",
       "...             ...      ...       ...          ...   \n",
       "164434            0        0         1          0.0   \n",
       "164435            0        0         1          0.0   \n",
       "164436            0        0         1          0.0   \n",
       "164437            0        0         1          0.0   \n",
       "164438            0        0         1          0.0   \n",
       "\n",
       "                                                 ORG List  \n",
       "0       24763773|25396363|25979483|25979836|25979849|2...  \n",
       "1       20328011|24044083|24458817|24500825|24503551|2...  \n",
       "2       20591866|21229087|22676088|24401234|24884602|2...  \n",
       "3       21102038|21951737|21963633|22092948|22272333|2...  \n",
       "4       25363497|25440620|25626648|25698705|25731261|2...  \n",
       "...                                                   ...  \n",
       "164434                                                NaN  \n",
       "164435                                                NaN  \n",
       "164436                                                NaN  \n",
       "164437                                                NaN  \n",
       "164438                                                NaN  \n",
       "\n",
       "[164439 rows x 46 columns]"
      ],
      "text/html": "<div>\n<style scoped>\n    .dataframe tbody tr th:only-of-type {\n        vertical-align: middle;\n    }\n\n    .dataframe tbody tr th {\n        vertical-align: top;\n    }\n\n    .dataframe thead th {\n        text-align: right;\n    }\n</style>\n<table border=\"1\" class=\"dataframe\">\n  <thead>\n    <tr style=\"text-align: right;\">\n      <th></th>\n      <th>OutreachID</th>\n      <th>Outreach Team</th>\n      <th>Client / Optum Category</th>\n      <th>Recommended Schedule Date</th>\n      <th>PhoneNumber</th>\n      <th>Address</th>\n      <th>City</th>\n      <th>State</th>\n      <th>Zip</th>\n      <th>Agent</th>\n      <th>...</th>\n      <th>rm_sort</th>\n      <th>ORG Stat</th>\n      <th>OutreachID Count</th>\n      <th>Cluster_Avg</th>\n      <th>Escalated</th>\n      <th>PNP Released</th>\n      <th>Past Due</th>\n      <th>Scheduled</th>\n      <th>Unscheduled</th>\n      <th>ORG List</th>\n    </tr>\n  </thead>\n  <tbody>\n    <tr>\n      <th>0</th>\n      <td>25979849</td>\n      <td>Sub 15</td>\n      <td>Highmark</td>\n      <td>2021-07-02</td>\n      <td>8.647203e+09</td>\n      <td>60 MAPLE RD STE 1</td>\n      <td>BUFFALO</td>\n      <td>NY</td>\n      <td>14221.0</td>\n      <td></td>\n      <td>...</td>\n      <td>0</td>\n      <td>1</td>\n      <td>198</td>\n      <td>0</td>\n      <td>0</td>\n      <td>0</td>\n      <td>1</td>\n      <td>7</td>\n      <td>190.0</td>\n      <td>24763773|25396363|25979483|25979836|25979849|2...</td>\n    </tr>\n    <tr>\n      <th>1</th>\n      <td>26404002</td>\n      <td>Sub 15</td>\n      <td>WellCare</td>\n      <td>2021-07-02</td>\n      <td>2.065205e+09</td>\n      <td>13231 SE 36TH ST STE 110</td>\n      <td>BELLEVUE</td>\n      <td>WA</td>\n      <td>98006.0</td>\n      <td></td>\n      <td>...</td>\n      <td>0</td>\n      <td>1</td>\n      <td>60</td>\n      <td>0</td>\n      <td>0</td>\n      <td>0</td>\n      <td>9</td>\n      <td>2</td>\n      <td>49.0</td>\n      <td>20328011|24044083|24458817|24500825|24503551|2...</td>\n    </tr>\n    <tr>\n      <th>2</th>\n      <td>25124843</td>\n      <td>Sub 15</td>\n      <td>Anthem</td>\n      <td>2021-07-02</td>\n      <td>4.196965e+09</td>\n      <td>8423 MARKET ST STE 101</td>\n      <td>YOUNGSTOWN</td>\n      <td>OH</td>\n      <td>44512.0</td>\n      <td></td>\n      <td>...</td>\n      <td>0</td>\n      <td>1</td>\n      <td>24</td>\n      <td>0</td>\n      <td>0</td>\n      <td>0</td>\n      <td>0</td>\n      <td>0</td>\n      <td>24.0</td>\n      <td>20591866|21229087|22676088|24401234|24884602|2...</td>\n    </tr>\n    <tr>\n      <th>3</th>\n      <td>25723033</td>\n      <td>15 to 59</td>\n      <td>UHC</td>\n      <td>2021-07-02</td>\n      <td>8.889527e+09</td>\n      <td>3003 N CENTRAL AVE STE 800</td>\n      <td>PHOENIX</td>\n      <td>AZ</td>\n      <td>85012.0</td>\n      <td></td>\n      <td>...</td>\n      <td>0</td>\n      <td>1</td>\n      <td>32</td>\n      <td>0</td>\n      <td>2</td>\n      <td>0</td>\n      <td>5</td>\n      <td>1</td>\n      <td>24.0</td>\n      <td>21102038|21951737|21963633|22092948|22272333|2...</td>\n    </tr>\n    <tr>\n      <th>4</th>\n      <td>25626648</td>\n      <td>Sub 15</td>\n      <td>UHC</td>\n      <td>2021-07-02</td>\n      <td>8.005278e+09</td>\n      <td>3000 HOSPITAL DR</td>\n      <td>BATAVIA</td>\n      <td>OH</td>\n      <td>45103.0</td>\n      <td></td>\n      <td>...</td>\n      <td>0</td>\n      <td>1</td>\n      <td>21</td>\n      <td>0</td>\n      <td>1</td>\n      <td>0</td>\n      <td>1</td>\n      <td>1</td>\n      <td>18.0</td>\n      <td>25363497|25440620|25626648|25698705|25731261|2...</td>\n    </tr>\n    <tr>\n      <th>...</th>\n      <td>...</td>\n      <td>...</td>\n      <td>...</td>\n      <td>...</td>\n      <td>...</td>\n      <td>...</td>\n      <td>...</td>\n      <td>...</td>\n      <td>...</td>\n      <td>...</td>\n      <td>...</td>\n      <td>...</td>\n      <td>...</td>\n      <td>...</td>\n      <td>...</td>\n      <td>...</td>\n      <td>...</td>\n      <td>...</td>\n      <td>...</td>\n      <td>...</td>\n      <td>...</td>\n    </tr>\n    <tr>\n      <th>164434</th>\n      <td>26478819</td>\n      <td>15 to 59</td>\n      <td>NaN</td>\n      <td>2021-07-02</td>\n      <td>8.509266e+09</td>\n      <td>2382 CRAWFORDVILLE HWY</td>\n      <td>CRAWFORDVILLE</td>\n      <td>FL</td>\n      <td>32327.0</td>\n      <td></td>\n      <td>...</td>\n      <td>3</td>\n      <td>1</td>\n      <td>1</td>\n      <td>0</td>\n      <td>0</td>\n      <td>0</td>\n      <td>0</td>\n      <td>1</td>\n      <td>0.0</td>\n      <td>NaN</td>\n    </tr>\n    <tr>\n      <th>164435</th>\n      <td>26479104</td>\n      <td>Sub 15</td>\n      <td>NaN</td>\n      <td>2021-07-02</td>\n      <td>6.103611e+09</td>\n      <td>161 WILMINGTON W CHESTER PIKE</td>\n      <td>CHADDS FORD</td>\n      <td>PA</td>\n      <td>19317.0</td>\n      <td></td>\n      <td>...</td>\n      <td>3</td>\n      <td>1</td>\n      <td>1</td>\n      <td>0</td>\n      <td>0</td>\n      <td>0</td>\n      <td>0</td>\n      <td>1</td>\n      <td>0.0</td>\n      <td>NaN</td>\n    </tr>\n    <tr>\n      <th>164436</th>\n      <td>26479241</td>\n      <td>Sub 15</td>\n      <td>NaN</td>\n      <td>2021-07-02</td>\n      <td>9.287744e+09</td>\n      <td>1750 S RAILROAD SPRINGS BLVD STE 3</td>\n      <td>FLAGSTAFF</td>\n      <td>AZ</td>\n      <td>86001.0</td>\n      <td></td>\n      <td>...</td>\n      <td>3</td>\n      <td>1</td>\n      <td>1</td>\n      <td>0</td>\n      <td>0</td>\n      <td>0</td>\n      <td>0</td>\n      <td>1</td>\n      <td>0.0</td>\n      <td>NaN</td>\n    </tr>\n    <tr>\n      <th>164437</th>\n      <td>26479335</td>\n      <td>15 to 59</td>\n      <td>NaN</td>\n      <td>2021-07-02</td>\n      <td>8.594986e+09</td>\n      <td>101 BRANDON WAY STE B</td>\n      <td>MOUNT STERLING</td>\n      <td>KY</td>\n      <td>40353.0</td>\n      <td></td>\n      <td>...</td>\n      <td>3</td>\n      <td>1</td>\n      <td>1</td>\n      <td>0</td>\n      <td>0</td>\n      <td>0</td>\n      <td>0</td>\n      <td>1</td>\n      <td>0.0</td>\n      <td>NaN</td>\n    </tr>\n    <tr>\n      <th>164438</th>\n      <td>26479785</td>\n      <td>Sub 15</td>\n      <td>NaN</td>\n      <td>2021-07-02</td>\n      <td>5.103475e+09</td>\n      <td>13851 E 14TH ST STE 202</td>\n      <td>SAN LEANDRO</td>\n      <td>CA</td>\n      <td>94578.0</td>\n      <td></td>\n      <td>...</td>\n      <td>3</td>\n      <td>1</td>\n      <td>1</td>\n      <td>0</td>\n      <td>0</td>\n      <td>0</td>\n      <td>0</td>\n      <td>1</td>\n      <td>0.0</td>\n      <td>NaN</td>\n    </tr>\n  </tbody>\n</table>\n<p>164439 rows × 46 columns</p>\n</div>"
     },
     "metadata": {},
     "execution_count": 109
    }
   ],
   "source": [
    "df4 = df4.merge(df_phone, how='left', on='PhoneNumber')"
   ]
  },
  {
   "cell_type": "code",
   "execution_count": null,
   "metadata": {},
   "outputs": [],
   "source": [
    "os.getcwd()"
   ]
  },
  {
   "cell_type": "code",
   "execution_count": 102,
   "metadata": {},
   "outputs": [],
   "source": [
    "df_phone.to_csv('df_phone.csv', index=False)\n"
   ]
  }
 ]
}